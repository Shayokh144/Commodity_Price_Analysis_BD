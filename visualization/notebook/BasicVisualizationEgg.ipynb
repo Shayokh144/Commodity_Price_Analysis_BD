{
 "cells": [
  {
   "cell_type": "code",
   "execution_count": 28,
   "id": "846fe84c",
   "metadata": {},
   "outputs": [],
   "source": [
    "import pandas as pd\n",
    "import matplotlib.pyplot as plt\n",
    "import numpy as np"
   ]
  },
  {
   "cell_type": "code",
   "execution_count": 29,
   "id": "52837690",
   "metadata": {},
   "outputs": [],
   "source": [
    "def getDataFrameFromCSV(filePath):\n",
    "    df = pd.read_csv(filePath + '.csv')\n",
    "    return df"
   ]
  },
  {
   "cell_type": "code",
   "execution_count": 30,
   "id": "67e9030b",
   "metadata": {},
   "outputs": [],
   "source": [
    "def createPlot(dataFrame, columnName, plotTitle = \"\", quantity = \"\"):\n",
    "    colValues = dataFrame[columnName]\n",
    "    dateValues = dataFrame['date']\n",
    "    ypoints = np.array(colValues)\n",
    "    xpoints = np.array(dateValues)\n",
    "    f = plt.figure()\n",
    "    f.set_figwidth(12)\n",
    "    f.set_figheight(6)\n",
    "    plt.plot(xpoints, ypoints, color='green')\n",
    "    plt.title(plotTitle + \" \" + quantity)\n",
    "    plt.xlabel(\"days\")\n",
    "    plt.ylabel(\"price\")\n",
    "    plt.show()"
   ]
  },
  {
   "cell_type": "code",
   "execution_count": 31,
   "id": "7f4d16f6",
   "metadata": {},
   "outputs": [],
   "source": [
    "df = getDataFrameFromCSV('../../data/price_data/egg/egg')"
   ]
  },
  {
   "cell_type": "code",
   "execution_count": 32,
   "id": "02dd70f3",
   "metadata": {},
   "outputs": [
    {
     "name": "stdout",
     "output_type": "stream",
     "text": [
      "Data Types:\n",
      "product_name           object\n",
      "weight_raw             object\n",
      "weight_value            int64\n",
      "weight_unit            object\n",
      "price_raw              object\n",
      "price                   int64\n",
      "discount_price_raw     object\n",
      "discount_price        float64\n",
      "date                   object\n",
      "time                   object\n",
      "dtype: object\n"
     ]
    }
   ],
   "source": [
    "print(\"Data Types:\")\n",
    "print(df.dtypes)"
   ]
  },
  {
   "cell_type": "code",
   "execution_count": 33,
   "id": "0d511854",
   "metadata": {},
   "outputs": [
    {
     "name": "stdout",
     "output_type": "stream",
     "text": [
      "Sample Data:\n",
      "                      product_name weight_raw  weight_value weight_unit  \\\n",
      "0  Egg Offer ( Use Code : EGG129 )     12 pcs            12         pcs   \n",
      "1             Chicken Eggs (Layer)     12 pcs            12         pcs   \n",
      "2     Organic Chicken Eggs (Deshi)      6 pcs             6         pcs   \n",
      "3             Chicken Eggs (Layer)      6 pcs             6         pcs   \n",
      "4    Purnava Omega 3 Enriched Eggs     12 pcs            12         pcs   \n",
      "5                       Quail Eggs     20 pcs            20         pcs   \n",
      "6           Duck Eggs (Hasher Dim)      6 pcs             6         pcs   \n",
      "7             Chicken Eggs (Layer)     12 pcs            12         pcs   \n",
      "8     Organic Chicken Eggs (Deshi)      6 pcs             6         pcs   \n",
      "9             Chicken Eggs (Layer)      6 pcs             6         pcs   \n",
      "\n",
      "  price_raw  price discount_price_raw  discount_price       date      time  \n",
      "0     ৳ 150    150                NaN             NaN 2022-10-26  12:22:01  \n",
      "1     ৳ 150    150              ৳ 139           139.0 2022-10-26  12:22:01  \n",
      "2     ৳ 109    109                NaN             NaN 2022-10-26  12:22:01  \n",
      "3      ৳ 75     75                NaN             NaN 2022-10-26  12:22:01  \n",
      "4     ৳ 240    240                NaN             NaN 2022-10-26  12:22:01  \n",
      "5      ৳ 79     79                NaN             NaN 2022-10-26  12:22:01  \n",
      "6     ৳ 109    109                NaN             NaN 2022-10-26  12:22:01  \n",
      "7     ৳ 150    150              ৳ 139           139.0 2022-10-26  17:45:49  \n",
      "8     ৳ 109    109                NaN             NaN 2022-10-26  17:45:49  \n",
      "9      ৳ 75     75                NaN             NaN 2022-10-26  17:45:49  \n"
     ]
    }
   ],
   "source": [
    "print(\"Sample Data:\")\n",
    "df['date'] = pd.to_datetime(df['date'], format='%d-%m-%Y')\n",
    "print(df.head(10))"
   ]
  },
  {
   "cell_type": "code",
   "execution_count": 34,
   "id": "ae154a90",
   "metadata": {},
   "outputs": [],
   "source": [
    "def showLineGraph(dataFrame, item, weight):\n",
    "    df = dataFrame\n",
    "    itemName = item\n",
    "    filteredDf = df.loc[(df.product_name == itemName) & (df.weight_value == weight)]\n",
    "    createPlot(filteredDf, 'price', itemName)"
   ]
  },
  {
   "cell_type": "code",
   "execution_count": 35,
   "id": "ba68fea4",
   "metadata": {},
   "outputs": [
    {
     "ename": "TypeError",
     "evalue": "showLineGraph() takes 3 positional arguments but 4 were given",
     "output_type": "error",
     "traceback": [
      "\u001b[0;31m---------------------------------------------------------------------------\u001b[0m",
      "\u001b[0;31mTypeError\u001b[0m                                 Traceback (most recent call last)",
      "Cell \u001b[0;32mIn[35], line 1\u001b[0m\n\u001b[0;32m----> 1\u001b[0m \u001b[43mshowLineGraph\u001b[49m\u001b[43m(\u001b[49m\u001b[43mdf\u001b[49m\u001b[43m,\u001b[49m\u001b[43m \u001b[49m\u001b[38;5;124;43m\"\u001b[39;49m\u001b[38;5;124;43mChicken Eggs (Layer)\u001b[39;49m\u001b[38;5;124;43m\"\u001b[39;49m\u001b[43m,\u001b[49m\u001b[43m \u001b[49m\u001b[38;5;241;43m6\u001b[39;49m\u001b[43m,\u001b[49m\u001b[43m \u001b[49m\u001b[38;5;124;43m\"\u001b[39;49m\u001b[38;5;124;43m6 pcs\u001b[39;49m\u001b[38;5;124;43m\"\u001b[39;49m\u001b[43m)\u001b[49m\n",
      "\u001b[0;31mTypeError\u001b[0m: showLineGraph() takes 3 positional arguments but 4 were given"
     ]
    }
   ],
   "source": [
    "showLineGraph(df, \"Chicken Eggs (Layer)\", 6)"
   ]
  },
  {
   "cell_type": "code",
   "execution_count": null,
   "id": "21553cb3",
   "metadata": {},
   "outputs": [],
   "source": [
    "showLineGraph(df, \"Organic Chicken Eggs (Deshi)\", 6)"
   ]
  },
  {
   "cell_type": "code",
   "execution_count": null,
   "id": "c2cdf6c7",
   "metadata": {},
   "outputs": [],
   "source": []
  }
 ],
 "metadata": {
  "kernelspec": {
   "display_name": "Python 3 (ipykernel)",
   "language": "python",
   "name": "python3"
  },
  "language_info": {
   "codemirror_mode": {
    "name": "ipython",
    "version": 3
   },
   "file_extension": ".py",
   "mimetype": "text/x-python",
   "name": "python",
   "nbconvert_exporter": "python",
   "pygments_lexer": "ipython3",
   "version": "3.10.8"
  }
 },
 "nbformat": 4,
 "nbformat_minor": 5
}
